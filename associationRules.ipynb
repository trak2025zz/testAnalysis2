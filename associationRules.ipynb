{
 "cells": [
  {
   "cell_type": "markdown",
   "metadata": {},
   "source": [
    "# Imports packages and assign variables"
   ]
  },
  {
   "cell_type": "code",
   "execution_count": null,
   "metadata": {},
   "outputs": [],
   "source": [
    "import pandas as pd\n",
    "from mlxtend.frequent_patterns import apriori, association_rules\n",
    "from IPython.display import display\n",
    "file_paths = [\n",
    "    'testData/1.10_A_30s_600ms_3/',\n",
    "    'testData/2.50_A_30s_600ms_3/',\n",
    "    'testData/3.90_A_30s_600ms_3/',\n",
    "    'testData/4.130_A_30s_600ms_3/',\n",
    "    'testData/5.60_A_30s_200ms_3/',\n",
    "    'testData/6.60_A_30s_500ms_3/',\n",
    "    'testData/7.60_A_30s_800ms_3/',\n",
    "    'testData/8.60_A_30s_1100ms_3/',\n",
    "    'testData/9.60_A_5s_600ms_3/',\n",
    "    'testData/10.60_A_20s_600ms_3/',\n",
    "    'testData/11.60_A_35s_600ms_3/',\n",
    "    'testData/12.60_A_50s_600ms_3/',\n",
    "    'testData/13.60_A_30s_600ms_2/',\n",
    "    'testData/14.60_A_30s_600ms_4/',\n",
    "    'testData/15.60_A_30s_600ms_6/',\n",
    "    'testData/16.60_A_30s_600ms_8/',\n",
    "    'testData/17.60_A_30s_600ms_3/',\n",
    "    'testData/18.60_A+NA+AZA_30s_600ms_3/',\n",
    "    'testData/19.60_A+NA_30s_600ms_3/',\n",
    "    'testData/20.60_A+AZA_30s_600ms_3/',\n",
    "    'testData/21.10_A+NA+AZA_30s_600ms_3/',\n",
    "    'testData/22.130_A+NA+AZA_30s_600ms_3/',\n",
    "    'testData/23.60_A+NA+AZA_30s_200ms_3/',\n",
    "    'testData/24.60_A+NA+AZA_30s_1100ms_3/',\n",
    "    'testData/25.60_A+NA+AZA_5s_600ms_3/',\n",
    "    'testData/26.60_A+NA+AZA_50s_600ms_3/',\n",
    "    'testData/27.60_A+NA+AZA_30s_600ms_2/',\n",
    "    'testData/28.60_A+NA+AZA_30s_600ms_8/',\n",
    "]\n",
    "\n",
    "labels = [ _[12:-1] if _ [11] == '.' else _[11:-1] for _ in file_paths ]"
   ]
  },
  {
   "cell_type": "markdown",
   "metadata": {},
   "source": [
    "# Get association rules"
   ]
  },
  {
   "cell_type": "code",
   "execution_count": null,
   "metadata": {},
   "outputs": [],
   "source": [
    "def create_low_high_columns(df, column_names):\n",
    "    new_df = pd.DataFrame()\n",
    "    i = 0\n",
    "    for col in column_names:\n",
    "        non_zero_values = df[df[col] != 0][col]\n",
    "        threshold = non_zero_values.median()\n",
    "        high_col_name = f'high_{col}'\n",
    "        new_df[high_col_name] = df[col].apply(lambda x: 1 if  x >= threshold else 0).astype(bool)\n",
    "        i +=1\n",
    "    return new_df\n",
    "\n",
    "def association():\n",
    "  for test_dir in file_paths:\n",
    "    df_path = f'{test_dir}/stockApp_merged_data.csv'\n",
    "    df = pd.read_csv(df_path)\n",
    "    column_names = [\n",
    "    'application_time', 'database_time', 'api_time', 'application_time_trade', 'database_time_trade','cpu_usage_db_test', 'cpu_usage_db', 'cpu_usage_transaction', 'cpu_usage_web'\n",
    "]\n",
    "    df_bin = create_low_high_columns(df, column_names)\n",
    "    frequent_itemsets = apriori(df_bin, min_support=0.3, use_colnames=True)\n",
    "    rules = association_rules(frequent_itemsets, metric=\"confidence\", min_threshold=0.8)\n",
    "    important_rules = rules[rules['lift'] > 1.2]\n",
    "    important_rules = important_rules[['antecedents', 'consequents', 'support', 'confidence', 'lift']]\n",
    "    if len(important_rules.index):\n",
    "        important_rules = important_rules[important_rules['antecedents'].apply(lambda x: len(x) <= 2)]\n",
    "    if len(important_rules.index):\n",
    "        important_rules = important_rules[important_rules['consequents'].apply(lambda x: len(x) <= 2)]\n",
    "    important_rules['support'] = important_rules['support'].round(2)\n",
    "    important_rules['confidence'] = important_rules['confidence'].round(2)\n",
    "    important_rules['lift'] = important_rules['lift'].round(2)\n",
    "    important_rules['antecedents'] = important_rules['antecedents'].apply(lambda x: ', '.join(list(x)))\n",
    "    important_rules['consequents'] = important_rules['consequents'].apply(lambda x: ', '.join(list(x)))\n",
    "    print(test_dir[9:-1])\n",
    "    if len(important_rules.index):\n",
    "        with pd.option_context('display.max_rows', min(len(important_rules.index),300), 'display.max_columns', 10):\n",
    "            display(important_rules[['antecedents', 'consequents', 'support', 'confidence', 'lift']])\n",
    "    else:\n",
    "        print('\\n')\n",
    "association()"
   ]
  }
 ],
 "metadata": {
  "kernelspec": {
   "display_name": "Python 3 (ipykernel)",
   "language": "python",
   "name": "python3"
  },
  "language_info": {
   "codemirror_mode": {
    "name": "ipython",
    "version": 3
   },
   "file_extension": ".py",
   "mimetype": "text/x-python",
   "name": "python",
   "nbconvert_exporter": "python",
   "pygments_lexer": "ipython3",
   "version": "3.9.7"
  }
 },
 "nbformat": 4,
 "nbformat_minor": 4
}
